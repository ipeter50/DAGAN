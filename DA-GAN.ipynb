{
 "cells": [
  {
   "cell_type": "code",
   "execution_count": 1,
   "metadata": {},
   "outputs": [],
   "source": [
    "import numpy as np\n",
    "import torch\n",
    "import torch.nn as nn\n",
    "import torch.nn.functional as F\n",
    "from torch.nn import init\n",
    "import matplotlib.pyplot as plt\n",
    "from torch.autograd import Variable\n",
    "import torchvision.models as models\n",
    "import random as random"
   ]
  },
  {
   "cell_type": "code",
   "execution_count": 2,
   "metadata": {},
   "outputs": [],
   "source": [
    "n_labels = 10\n",
    "cuda = torch.cuda.is_available()\n",
    "device = \"cuda:0\" if cuda else \"cpu\"\n",
    "\n",
    "def onehot(k):\n",
    "    \"\"\"\n",
    "    Converts a number to its one-hot or 1-of-k representation\n",
    "    vector.\n",
    "    :param k: (int) length of vector\n",
    "    :return: onehot function\n",
    "    \"\"\"\n",
    "    def encode(label):\n",
    "        y = torch.zeros(k)\n",
    "        if label < k:\n",
    "            y[label] = 1\n",
    "        return y\n",
    "    return encode\n",
    "\n",
    "def get_mnist(location=\"./\", batch_size=128):\n",
    "    from functools import reduce\n",
    "    from operator import __or__\n",
    "    from torch.utils.data.sampler import SubsetRandomSampler\n",
    "    from torchvision.datasets import MNIST\n",
    "    import torchvision.transforms as transforms\n",
    "    \n",
    "    compose = transforms.Compose(\n",
    "        [transforms.ToTensor(),\n",
    "         transforms.Normalize((.5, .5, .5), (.5, .5, .5))\n",
    "        ])\n",
    "    \n",
    "    img_transform = lambda x: compose(x).view(-1)\n",
    "    \n",
    "\n",
    "    mnist_train = MNIST(location, train=True, download=True,transform=img_transform, target_transform=onehot(n_labels))\n",
    "    mnist_valid = MNIST(location, train=False, download=True,transform=img_transform, target_transform=onehot(n_labels))\n",
    "\n",
    "    # Dataloaders for MNIST\n",
    "    labelled = torch.utils.data.DataLoader(mnist_train, batch_size=batch_size)\n",
    "    \n",
    "    validation = torch.utils.data.DataLoader(mnist_valid, batch_size=batch_size)\n",
    "\n",
    "    return labelled, validation"
   ]
  },
  {
   "cell_type": "code",
   "execution_count": 3,
   "metadata": {},
   "outputs": [],
   "source": [
    "labelled, valid = get_mnist()"
   ]
  },
  {
   "cell_type": "code",
   "execution_count": 4,
   "metadata": {},
   "outputs": [
    {
     "data": {
      "text/plain": [
       "<matplotlib.image.AxesImage at 0x7f0b508b1048>"
      ]
     },
     "execution_count": 4,
     "metadata": {},
     "output_type": "execute_result"
    },
    {
     "data": {
      "image/png": "[encoded data removed]",
      "text/plain": [
       "<Figure size 432x288 with 1 Axes>"
      ]
     },
     "metadata": {
      "needs_background": "light"
     },
     "output_type": "display_data"
    }
   ],
   "source": [
    "plt.imshow(next(iter(labelled))[0][0].view(28,28), cmap='gray')"
   ]
  },
  {
   "cell_type": "code",
   "execution_count": 5,
   "metadata": {},
   "outputs": [],
   "source": [
    "class Generator(nn.Module):\n",
    "    def __init__(self, in_dim=110, out_dim=784, d=128):\n",
    "        super().__init__()\n",
    "#         self.net = nn.Sequential(nn.Linear(in_features=in_dim, out_features=256),\n",
    "#                                  nn.LeakyReLU(0.2),\n",
    "#                                  nn.Linear(in_features=256, out_features=512),\n",
    "#                                  nn.LeakyReLU(0.2),\n",
    "#                                  nn.Linear(in_features=512, out_features=1024),\n",
    "#                                  nn.LeakyReLU(0.2),\n",
    "#                                  nn.Linear(in_features=1024, out_features=out_dim),\n",
    "#                                  nn.Tanh())\n",
    "\n",
    "        self.net = nn.Sequential(nn.ConvTranspose2d(in_channels=100, out_channels=d*4, kernel_size=4, stride=1, padding=0),\n",
    "                         nn.BatchNorm2d(d*4),\n",
    "                         nn.ReLU(),\n",
    "                         nn.ConvTranspose2d(in_channels=d*4, out_channels=d*2, kernel_size=4, stride=2, padding=1),\n",
    "                         nn.BatchNorm2d(d*2),\n",
    "                         nn.ReLU(),\n",
    "                         nn.ConvTranspose2d(in_channels=d*2, out_channels=d, kernel_size=3, stride=2, padding=1),\n",
    "                         nn.BatchNorm2d(d),\n",
    "                         nn.ReLU(),\n",
    "                         nn.ConvTranspose2d(in_channels=d, out_channels=1, kernel_size=2, stride=2, padding=1),\n",
    "                         nn.Tanh())\n",
    "    \n",
    "        self.linear = nn.Linear(in_features=in_dim, out_features=100)\n",
    "        \n",
    "    def forward(self,x):\n",
    "        x = self.linear(x).view(-1,100,1,1)\n",
    "        return self.net(x)\n",
    "    \n",
    "    # weight_init\n",
    "    def weight_init(self, mean, std):\n",
    "        for m in self._modules:\n",
    "            normal_init(self._modules[m], mean, std)"
   ]
  },
  {
   "cell_type": "code",
   "execution_count": 6,
   "metadata": {},
   "outputs": [],
   "source": [
    "class Discriminator(nn.Module):\n",
    "    def __init__(self, in_dim=794, d=128):\n",
    "        super().__init__()\n",
    "#         self.net = nn.Sequential(nn.Linear(in_features=in_dim, out_features=1024),\n",
    "#                                  nn.LeakyReLU(0.2),\n",
    "#                                  nn.Dropout(0.3),\n",
    "#                                  nn.Linear(in_features=1024, out_features=512),\n",
    "#                                  nn.LeakyReLU(0.2),\n",
    "#                                  nn.Dropout(0.3),\n",
    "#                                  nn.Linear(in_features=512, out_features=256),\n",
    "#                                  nn.LeakyReLU(0.2),\n",
    "#                                  nn.Dropout(0.3),\n",
    "#                                  nn.Linear(in_features=256, out_features=1),\n",
    "#                                  nn.Sigmoid())\n",
    "        self.net = nn.Sequential(nn.Conv2d(1, d, 2, 2, 1),\n",
    "                                 nn.LeakyReLU(0.2),\n",
    "                                 nn.Conv2d(d, d*2, 3, 2, 1),\n",
    "                                 nn.BatchNorm2d(d*2),\n",
    "                                 nn.LeakyReLU(0.2),\n",
    "                                 nn.Conv2d(d*2, d*4, 4, 2, 1),\n",
    "                                 nn.BatchNorm2d(d*4),\n",
    "                                 nn.LeakyReLU(0.2),\n",
    "                                 nn.Conv2d(d*4, 1, 4, 1, 0),\n",
    "                                 nn.Sigmoid())\n",
    "        self.linear = nn.Linear(in_features=in_dim, out_features=784)\n",
    "        \n",
    "    def forward(self,x):\n",
    "        x = self.linear(x).view(-1,1,28,28)\n",
    "        return self.net(x)\n",
    "    \n",
    "    # weight_init\n",
    "    def weight_init(self, mean, std):\n",
    "        for m in self._modules:\n",
    "            normal_init(self._modules[m], mean, std)\n",
    "    \n",
    "    def load(self, backup):\n",
    "        for m_from, m_to in zip(backup.modules(), self.modules()):\n",
    "             if isinstance(m_to, nn.Linear):\n",
    "                m_to.weight.data = m_from.weight.data.clone()\n",
    "                if m_to.bias is not None:\n",
    "                    m_to.bias.data = m_from.bias.data.clone()"
   ]
  },
  {
   "cell_type": "code",
   "execution_count": 7,
   "metadata": {},
   "outputs": [],
   "source": [
    "class Classifier(nn.Module):\n",
    "    def __init__(self, in_dim=784):\n",
    "        super().__init__()\n",
    "        self.net = nn.Sequential(nn.Linear(in_features=in_dim, out_features=256),\n",
    "                                 nn.ReLU(),\n",
    "#                                  nn.Dropout(0.3),\n",
    "                                 nn.Linear(in_features=256, out_features=256),\n",
    "                                 nn.ReLU(),\n",
    "#                                  nn.Dropout(0.3),\n",
    "                                 nn.Linear(in_features=256, out_features=256),\n",
    "                                 nn.ReLU(),\n",
    "#                                  nn.Dropout(0.3),\n",
    "                                 nn.Linear(in_features=256, out_features=10),\n",
    "                                 nn.LogSoftmax(dim=-1))\n",
    "        \n",
    "    def forward(self,x):        \n",
    "        return self.net(x)"
   ]
  },
  {
   "cell_type": "code",
   "execution_count": 8,
   "metadata": {},
   "outputs": [],
   "source": [
    "def normal_init(m, mean, std):\n",
    "    if isinstance(m, nn.ConvTranspose2d) or isinstance(m, nn.Conv2d):\n",
    "        m.weight.data.normal_(mean, std)\n",
    "        m.bias.data.zero_()\n",
    "\n",
    "generator = Generator()\n",
    "discriminator = Discriminator()\n",
    "\n",
    "generator.weight_init(mean=0.0, std=0.02)\n",
    "discriminator.weight_init(mean=0.0, std=0.02)\n",
    "\n",
    "generator = generator.to(device)\n",
    "discriminator = discriminator.to(device)\n",
    "classifier = Classifier().to(device)"
   ]
  },
  {
   "cell_type": "code",
   "execution_count": 9,
   "metadata": {},
   "outputs": [],
   "source": [
    "x = torch.rand(100).to(device)\n",
    "label = onehot(10)(random.randint(0,9)).to(device)\n",
    "x = torch.cat((x, label))"
   ]
  },
  {
   "cell_type": "code",
   "execution_count": 10,
   "metadata": {
    "scrolled": false
   },
   "outputs": [
    {
     "data": {
      "text/plain": [
       "<matplotlib.image.AxesImage at 0x7f0b48cd14e0>"
      ]
     },
     "execution_count": 10,
     "metadata": {},
     "output_type": "execute_result"
    },
    {
     "data": {
      "image/png": "[encoded data removed]",
      "text/plain": [
       "<Figure size 432x288 with 1 Axes>"
      ]
     },
     "metadata": {
      "needs_background": "light"
     },
     "output_type": "display_data"
    }
   ],
   "source": [
    "plt.imshow(generator(x).view(28,28).cpu().detach(), cmap='gray')"
   ]
  },
  {
   "cell_type": "code",
   "execution_count": 11,
   "metadata": {
    "scrolled": true
   },
   "outputs": [
    {
     "data": {
      "text/plain": [
       "tensor([[[[0.5480]]]], device='cuda:0', grad_fn=<SigmoidBackward>)"
      ]
     },
     "execution_count": 11,
     "metadata": {},
     "output_type": "execute_result"
    }
   ],
   "source": [
    "discriminator(torch.cat((generator(x).view(-1), label)))"
   ]
  },
  {
   "cell_type": "code",
   "execution_count": 12,
   "metadata": {},
   "outputs": [
    {
     "data": {
      "text/plain": [
       "tensor([-2.3283, -2.2960, -2.3206, -2.3197, -2.3578, -2.2699, -2.2835, -2.2865,\n",
       "        -2.3079, -2.2596], device='cuda:0', grad_fn=<LogSoftmaxBackward>)"
      ]
     },
     "execution_count": 12,
     "metadata": {},
     "output_type": "execute_result"
    }
   ],
   "source": [
    "classifier(generator(x).view(-1))"
   ]
  },
  {
   "cell_type": "code",
   "execution_count": 13,
   "metadata": {},
   "outputs": [],
   "source": [
    "optimizerD = torch.optim.SGD(discriminator.parameters(), lr=0.01)\n",
    "optimizerG = torch.optim.Adam(generator.parameters(), lr=0.0002)\n",
    "optimizerC = torch.optim.Adam(classifier.parameters(), lr=0.00005)"
   ]
  },
  {
   "cell_type": "code",
   "execution_count": 14,
   "metadata": {},
   "outputs": [],
   "source": [
    "def to_variable(x):\n",
    "    '''\n",
    "    convert a tensor to a variable\n",
    "    with gradient tracking\n",
    "    '''\n",
    "    x = x.to(device)\n",
    "    return Variable(x)"
   ]
  },
  {
   "cell_type": "code",
   "execution_count": 15,
   "metadata": {},
   "outputs": [],
   "source": [
    "def label_gen(size, real):\n",
    "    label_smoothing = 1\n",
    "    if real:\n",
    "        return to_variable(label_smoothing * torch.ones(size, 1))\n",
    "    else:\n",
    "        return to_variable(torch.zeros(size, 1))"
   ]
  },
  {
   "cell_type": "code",
   "execution_count": 16,
   "metadata": {},
   "outputs": [],
   "source": [
    "def c_loop(batch_size, batch_data):\n",
    "    \n",
    "    # Train classifier on real data\n",
    "    \n",
    "    classifier.zero_grad()\n",
    "    batch_images = to_variable(batch_data[0])\n",
    "    classes_real = to_variable(batch_data[1])\n",
    "\n",
    "    predictions_real = classifier(batch_images)\n",
    "\n",
    "    lossC_real = NLL(predictions_real, classes_real.argmax(dim=-1))\n",
    "\n",
    "    lossC_real.backward()\n",
    "\n",
    "\n",
    "    # Train classifier on fake data \n",
    "    \n",
    "    noise = to_variable(torch.randn(batch_size, 100))\n",
    "    classes_fake = to_variable(torch.stack(list\n",
    "                                           (map(lambda x: onehot(10)(x), \n",
    "                                                list(np.random.randint(10, size=batch_size))))))\n",
    "    \n",
    "    fake_images = generator(torch.cat((noise, classes_fake), -1)).view(batch_size, -1)\n",
    "    \n",
    "    \n",
    "    predictions_fake = classifier(fake_images.detach())\n",
    "    lossC_fake = NLL(predictions_fake, classes_fake.argmax(dim=-1))\n",
    "\n",
    "\n",
    "    lossC_fake.backward()\n",
    "\n",
    "\n",
    "    lossC = lossC_fake + lossC_real\n",
    "\n",
    "    optimizerC.step()\n",
    "    \n",
    "    return lossC"
   ]
  },
  {
   "cell_type": "code",
   "execution_count": 17,
   "metadata": {},
   "outputs": [],
   "source": [
    "def d_loop(batch_size, batch_data):\n",
    "    fake_labels = label_gen(size = batch_size, real=False)\n",
    "    true_labels = label_gen(size = batch_size, real=True)\n",
    "    \n",
    "    # Train discriminator on real data \n",
    "    discriminator.zero_grad()\n",
    "    batch_images = to_variable(batch_data[0])\n",
    "    classes_real = to_variable(batch_data[1])\n",
    "#     print(classes_real)\n",
    "\n",
    "    outputs_real = discriminator(torch.cat((batch_images, classes_real), -1))\n",
    "\n",
    "    lossD_real = BCE(outputs_real, true_labels)\n",
    "\n",
    "    lossD_real.backward()\n",
    "\n",
    "\n",
    "    # Train discriminator on fake data \n",
    "\n",
    "    noise = to_variable(torch.randn(batch_size, 100))\n",
    "    classes_fake = to_variable(torch.stack(list\n",
    "                                           (map(lambda x: onehot(10)(x), \n",
    "                                                list(np.random.randint(10, size=batch_size))))))\n",
    "    \n",
    "    fake_images = generator(torch.cat((noise, classes_fake), -1)).view(batch_size, -1)\n",
    "    outputs_fake_d = discriminator(torch.cat((fake_images.detach(), classes_fake), -1))\n",
    "    lossD_fake = BCE(outputs_fake_d, fake_labels)\n",
    "\n",
    "\n",
    "    lossD_fake.backward()\n",
    "\n",
    "\n",
    "    lossD = lossD_fake + lossD_real\n",
    "\n",
    "    optimizerD.step()\n",
    "    \n",
    "    return lossD\n"
   ]
  },
  {
   "cell_type": "code",
   "execution_count": 18,
   "metadata": {},
   "outputs": [],
   "source": [
    "def g_loop(batch_size, batch_data): \n",
    "    \n",
    "    true_labels = label_gen(size = batch_size, real=True)  \n",
    "    fake_labels = label_gen(size = batch_size, real=False)  \n",
    "    noise = to_variable(torch.randn(batch_size, 100))\n",
    "    classes_fake = to_variable(torch.stack(list\n",
    "                                           (map(lambda x: onehot(10)(x), \n",
    "                                                list(np.random.randint(10, size=batch_size))))))\n",
    "    # Train generator\n",
    "    generator.zero_grad()\n",
    "    \n",
    "    #unrolled loop\n",
    "    if unrolled_step>0:\n",
    "        backup = copy.deepcopy(discriminator)\n",
    "        for step in range(unrolled_step):\n",
    "            d_loop_unrolled(batch_size, batch_data, noise, classes_fake)\n",
    "    \n",
    "    fake_images = generator(torch.cat((noise, classes_fake), -1)).view(batch_size, -1)\n",
    "    outputs_fake_g = discriminator(torch.cat((fake_images, classes_fake), -1))\n",
    "    lossG =  BCE(outputs_fake_g, true_labels)\n",
    "\n",
    "    lossG.backward()\n",
    "\n",
    "    optimizerG.step()\n",
    "    \n",
    "    # reset backup discriminator\n",
    "    if unrolled_step>0:\n",
    "        discriminator.load(backup)\n",
    "        del backup\n",
    "    \n",
    "    return lossG"
   ]
  },
  {
   "cell_type": "code",
   "execution_count": 19,
   "metadata": {},
   "outputs": [],
   "source": [
    "BCE = nn.BCELoss()\n",
    "NLL = nn.NLLLoss()\n",
    "MSE = nn.MSELoss()\n",
    "NUM_EPOCH = 100\n",
    "unrolled_step = 0\n",
    "\n",
    "def train():\n",
    "    loss_g, loss_d, loss_c = [], [], []\n",
    "    for epoch in range(NUM_EPOCH):\n",
    "        \n",
    "        for idx, batch_data in enumerate(labelled):\n",
    "            \n",
    "            \n",
    "            batch_size = batch_data[0].shape[0]\n",
    "            \n",
    "            lossC = c_loop(batch_size, batch_data)\n",
    "            \n",
    "            lossD = d_loop(batch_size, batch_data)\n",
    "            \n",
    "            lossG = g_loop(batch_size, batch_data)\n",
    "            \n",
    "            loss_d.append(lossD.item())\n",
    "            loss_g.append(lossG.item())\n",
    "#             loss_g = np.zeros(100)\n",
    "            loss_c.append(lossC.item())\n",
    "#             print(lossG)\n",
    "#         print(\"Epoch: \", epoch, \", Gloss: \", np.mean(loss_g[:-10]), \", Dloss: \", np.mean(loss_d[:-10])) \n",
    "        print(\"Epoch: \", epoch, \", Gloss: \", np.mean(loss_g[:-10]), \", Dloss: \", np.mean(loss_d[:-10]), \", Closs: \", np.mean(loss_c[:-10]))\n",
    "        print(\"Validation accuracy:\", test())"
   ]
  },
  {
   "cell_type": "code",
   "execution_count": 20,
   "metadata": {},
   "outputs": [],
   "source": [
    "def test():\n",
    "    r =0\n",
    "    length = 0 \n",
    "    for idx, batch_data in enumerate(valid):\n",
    "        batch_size = batch_data[0].shape[0]\n",
    "        real_images = batch_data[0].cuda()\n",
    "        classes_real = batch_data[1].cuda()\n",
    "#         print(classes_real.argmax(dim=-1))\n",
    "\n",
    "        predictions_real = classifier(real_images).argmax(dim=-1)\n",
    "#         print(predictions_real)\n",
    "#         r += torch.sum(abs(predictions_real-classes_real)).item()\n",
    "        r += predictions_real.eq(classes_real.argmax(dim=-1)).sum().item()\n",
    "        length += batch_size\n",
    "    return r/length"
   ]
  },
  {
   "cell_type": "code",
   "execution_count": 21,
   "metadata": {},
   "outputs": [
    {
     "name": "stderr",
     "output_type": "stream",
     "text": [
      "/home/pierre/.local/lib/python3.6/site-packages/torch/nn/functional.py:1594: UserWarning: Using a target size (torch.Size([128, 1])) that is different to the input size (torch.Size([128, 1, 1, 1])) is deprecated. Please ensure they have the same size.\n",
      "  \"Please ensure they have the same size.\".format(target.size(), input.size()))\n",
      "/home/pierre/.local/lib/python3.6/site-packages/torch/nn/functional.py:1594: UserWarning: Using a target size (torch.Size([96, 1])) that is different to the input size (torch.Size([96, 1, 1, 1])) is deprecated. Please ensure they have the same size.\n",
      "  \"Please ensure they have the same size.\".format(target.size(), input.size()))\n"
     ]
    },
    {
     "name": "stdout",
     "output_type": "stream",
     "text": [
      "Epoch:  0 , Gloss:  4.674804954004378 , Dloss:  0.7985929306855218 , Closs:  3.541756763437475\n",
      "Validation accuracy: 0.8474\n",
      "Epoch:  1 , Gloss:  4.115290903098279 , Dloss:  0.7545516530846161 , Closs:  3.472618260260286\n",
      "Validation accuracy: 0.8462\n",
      "Epoch:  2 , Gloss:  3.7580565475576426 , Dloss:  0.7284862700756106 , Closs:  3.469302610405531\n",
      "Validation accuracy: 0.8829\n",
      "Epoch:  3 , Gloss:  3.441507345845745 , Dloss:  0.7478701274961559 , Closs:  3.4549440512192082\n",
      "Validation accuracy: 0.9064\n",
      "Epoch:  4 , Gloss:  3.1406475042853894 , Dloss:  0.794548669968267 , Closs:  3.438172569315745\n",
      "Validation accuracy: 0.9169\n",
      "Epoch:  5 , Gloss:  2.9100514427223847 , Dloss:  0.8318440615336182 , Closs:  3.419340425143058\n",
      "Validation accuracy: 0.9241\n",
      "Epoch:  6 , Gloss:  2.744241890939792 , Dloss:  0.8551226756943084 , Closs:  3.3912315960874477\n",
      "Validation accuracy: 0.9296\n",
      "Epoch:  7 , Gloss:  2.620662518986352 , Dloss:  0.8713620671937601 , Closs:  3.339645810461121\n",
      "Validation accuracy: 0.9372\n",
      "Epoch:  8 , Gloss:  2.5020313262566463 , Dloss:  0.8940278319199066 , Closs:  3.2151028018925145\n",
      "Validation accuracy: 0.9301\n",
      "Epoch:  9 , Gloss:  2.3903042012346716 , Dloss:  0.9220552369858174 , Closs:  3.0146997091734513\n",
      "Validation accuracy: 0.9196\n",
      "Epoch:  10 , Gloss:  2.291403003661961 , Dloss:  0.9458635613702727 , Closs:  2.802415095329007\n",
      "Validation accuracy: 0.9255\n",
      "Epoch:  11 , Gloss:  2.212062536851764 , Dloss:  0.9647872253839903 , Closs:  2.60725553475132\n",
      "Validation accuracy: 0.9326\n",
      "Epoch:  12 , Gloss:  2.1436774785811026 , Dloss:  0.9796288693106087 , Closs:  2.4346403729568977\n",
      "Validation accuracy: 0.9422\n",
      "Epoch:  13 , Gloss:  2.08538637551867 , Dloss:  0.9912899402815089 , Closs:  2.2828672572338524\n",
      "Validation accuracy: 0.9457\n",
      "Epoch:  14 , Gloss:  2.041069761491245 , Dloss:  0.9984926126839997 , Closs:  2.1497188212088845\n",
      "Validation accuracy: 0.9496\n",
      "Epoch:  15 , Gloss:  2.0030108995263585 , Dloss:  1.004842656660418 , Closs:  2.031542647956076\n",
      "Validation accuracy: 0.9508\n",
      "Epoch:  16 , Gloss:  1.9684390440080963 , Dloss:  1.0092105422636268 , Closs:  1.9271262339460749\n",
      "Validation accuracy: 0.9537\n",
      "Epoch:  17 , Gloss:  1.941156482602269 , Dloss:  1.0111666817600613 , Closs:  1.8335747671864955\n",
      "Validation accuracy: 0.9545\n",
      "Epoch:  18 , Gloss:  1.9198380678166571 , Dloss:  1.011778445277262 , Closs:  1.7499229411267387\n",
      "Validation accuracy: 0.9582\n",
      "Epoch:  19 , Gloss:  1.898367671881566 , Dloss:  1.0126266952433842 , Closs:  1.6742774827280573\n",
      "Validation accuracy: 0.9594\n",
      "Epoch:  20 , Gloss:  1.8788699030675633 , Dloss:  1.0134218420600447 , Closs:  1.6052829254471999\n",
      "Validation accuracy: 0.9608\n",
      "Epoch:  21 , Gloss:  1.8556661182977063 , Dloss:  1.0144317682361894 , Closs:  1.5420878542443324\n",
      "Validation accuracy: 0.9611\n",
      "Epoch:  22 , Gloss:  1.8428503741910889 , Dloss:  1.0125779923416234 , Closs:  1.4839753816729548\n",
      "Validation accuracy: 0.9631\n",
      "Epoch:  23 , Gloss:  1.8337109594497834 , Dloss:  1.0098512717716257 , Closs:  1.4304198175264586\n",
      "Validation accuracy: 0.9626\n",
      "Epoch:  24 , Gloss:  1.8220960901821461 , Dloss:  1.0081903658146447 , Closs:  1.3811401816168454\n",
      "Validation accuracy: 0.961\n",
      "Epoch:  25 , Gloss:  1.8132602364314776 , Dloss:  1.0055716769695147 , Closs:  1.3359563825670349\n",
      "Validation accuracy: 0.964\n",
      "Epoch:  26 , Gloss:  1.8057815364808 , Dloss:  1.0025068014009244 , Closs:  1.2938295748112165\n",
      "Validation accuracy: 0.9635\n",
      "Epoch:  27 , Gloss:  1.7959019426279237 , Dloss:  1.0009279591207212 , Closs:  1.2543845040832413\n",
      "Validation accuracy: 0.9659\n",
      "Epoch:  28 , Gloss:  1.7883958597834615 , Dloss:  0.9979611133167461 , Closs:  1.2176593725140101\n",
      "Validation accuracy: 0.9665\n",
      "Epoch:  29 , Gloss:  1.7861955908726825 , Dloss:  0.9941995995491975 , Closs:  1.183362010601182\n",
      "Validation accuracy: 0.9649\n",
      "Epoch:  30 , Gloss:  1.7855140737772406 , Dloss:  0.9909773556914379 , Closs:  1.1511701755179506\n",
      "Validation accuracy: 0.9687\n",
      "Epoch:  31 , Gloss:  1.7820607553461691 , Dloss:  0.9873141446733149 , Closs:  1.1206934318961834\n",
      "Validation accuracy: 0.9661\n",
      "Epoch:  32 , Gloss:  1.77951110991523 , Dloss:  0.9842604869354363 , Closs:  1.0921049140369168\n",
      "Validation accuracy: 0.9655\n",
      "Epoch:  33 , Gloss:  1.7739719365595417 , Dloss:  0.9814877154705287 , Closs:  1.0649941363145157\n",
      "Validation accuracy: 0.9665\n",
      "Epoch:  34 , Gloss:  1.7707281549895397 , Dloss:  0.977380194571803 , Closs:  1.0397306607692698\n",
      "Validation accuracy: 0.9661\n",
      "Epoch:  35 , Gloss:  1.7695096165737971 , Dloss:  0.9745418393510855 , Closs:  1.0157658120998543\n",
      "Validation accuracy: 0.9656\n",
      "Epoch:  36 , Gloss:  1.7708180926802972 , Dloss:  0.9706293593879666 , Closs:  0.9933271939878435\n",
      "Validation accuracy: 0.969\n",
      "Epoch:  37 , Gloss:  1.768966235562664 , Dloss:  0.9672029503980655 , Closs:  0.97171027113301\n",
      "Validation accuracy: 0.9667\n",
      "Epoch:  38 , Gloss:  1.772269893638008 , Dloss:  0.9628241751572646 , Closs:  0.9511034250686113\n",
      "Validation accuracy: 0.9664\n",
      "Epoch:  39 , Gloss:  1.7737552421888387 , Dloss:  0.958351719781893 , Closs:  0.9316135470241308\n",
      "Validation accuracy: 0.9687\n",
      "Epoch:  40 , Gloss:  1.777488417290455 , Dloss:  0.9544654019097658 , Closs:  0.9130478163416342\n",
      "Validation accuracy: 0.9688\n",
      "Epoch:  41 , Gloss:  1.779506424497438 , Dloss:  0.9497677393467814 , Closs:  0.8951443734453717\n",
      "Validation accuracy: 0.9681\n",
      "Epoch:  42 , Gloss:  1.780375809122649 , Dloss:  0.9456691215340092 , Closs:  0.8780681933943764\n",
      "Validation accuracy: 0.9702\n",
      "Epoch:  43 , Gloss:  1.7846553264489868 , Dloss:  0.9407524233053045 , Closs:  0.861776156338779\n",
      "Validation accuracy: 0.969\n",
      "Epoch:  44 , Gloss:  1.78685760442445 , Dloss:  0.9366291337365426 , Closs:  0.8461568077075649\n",
      "Validation accuracy: 0.9687\n",
      "Epoch:  45 , Gloss:  1.788778785454368 , Dloss:  0.9329257068398885 , Closs:  0.83142455387325\n",
      "Validation accuracy: 0.9707\n",
      "Epoch:  46 , Gloss:  1.792032972496151 , Dloss:  0.9291288216298493 , Closs:  0.8172319033263258\n",
      "Validation accuracy: 0.9685\n",
      "Epoch:  47 , Gloss:  1.7962971944890809 , Dloss:  0.9249462880556523 , Closs:  0.8035592472960648\n",
      "Validation accuracy: 0.9708\n",
      "Epoch:  48 , Gloss:  1.8029888375475667 , Dloss:  0.9196316509496629 , Closs:  0.790692651774169\n",
      "Validation accuracy: 0.9692\n",
      "Epoch:  49 , Gloss:  1.806900206588937 , Dloss:  0.9154485027762801 , Closs:  0.7781617477167486\n",
      "Validation accuracy: 0.9687\n",
      "Epoch:  50 , Gloss:  1.8146418182454982 , Dloss:  0.9109762147388644 , Closs:  0.766161328332216\n",
      "Validation accuracy: 0.9693\n",
      "Epoch:  51 , Gloss:  1.8195109577503785 , Dloss:  0.9062904714799267 , Closs:  0.7545222956115689\n",
      "Validation accuracy: 0.9662\n",
      "Epoch:  52 , Gloss:  1.8265307119511514 , Dloss:  0.9017462228594099 , Closs:  0.743393920136952\n",
      "Validation accuracy: 0.9707\n",
      "Epoch:  53 , Gloss:  1.831335728930666 , Dloss:  0.8974282695090958 , Closs:  0.7324756090908179\n",
      "Validation accuracy: 0.9697\n",
      "Epoch:  54 , Gloss:  1.8380219531135584 , Dloss:  0.8929631508149359 , Closs:  0.7220559766551125\n",
      "Validation accuracy: 0.9704\n",
      "Epoch:  55 , Gloss:  1.841925722103105 , Dloss:  0.8886139176082524 , Closs:  0.7118398584200547\n",
      "Validation accuracy: 0.9721\n",
      "Epoch:  56 , Gloss:  1.8486728186668655 , Dloss:  0.8850201388514544 , Closs:  0.7021752667587852\n",
      "Validation accuracy: 0.9663\n",
      "Epoch:  57 , Gloss:  1.8544261359173217 , Dloss:  0.8808351579301047 , Closs:  0.6927359646912193\n",
      "Validation accuracy: 0.9725\n",
      "Epoch:  58 , Gloss:  1.8586302644827624 , Dloss:  0.8773358250104931 , Closs:  0.6835524256801653\n",
      "Validation accuracy: 0.9728\n",
      "Epoch:  59 , Gloss:  1.8631286736399 , Dloss:  0.8732082561877899 , Closs:  0.6746736154168808\n",
      "Validation accuracy: 0.9738\n",
      "Epoch:  60 , Gloss:  1.8698477940606897 , Dloss:  0.8694341802043055 , Closs:  0.6663303867440582\n",
      "Validation accuracy: 0.9719\n",
      "Epoch:  61 , Gloss:  1.8752486420203522 , Dloss:  0.8657877826296259 , Closs:  0.6581968999207887\n",
      "Validation accuracy: 0.9692\n",
      "Epoch:  62 , Gloss:  1.8834274996233649 , Dloss:  0.8620966502892029 , Closs:  0.6501231758101731\n",
      "Validation accuracy: 0.9699\n",
      "Epoch:  63 , Gloss:  1.8900912665815237 , Dloss:  0.8575720776748808 , Closs:  0.6422312884467182\n",
      "Validation accuracy: 0.9706\n",
      "Epoch:  64 , Gloss:  1.893865601794096 , Dloss:  0.8534366117218025 , Closs:  0.6347775777341329\n",
      "Validation accuracy: 0.9733\n",
      "Epoch:  65 , Gloss:  1.8991537766528492 , Dloss:  0.8493637808096274 , Closs:  0.6275528191287006\n"
     ]
    },
    {
     "name": "stdout",
     "output_type": "stream",
     "text": [
      "Validation accuracy: 0.971\n",
      "Epoch:  66 , Gloss:  1.9161298771955764 , Dloss:  0.8477051754741403 , Closs:  0.6211295713371792\n",
      "Validation accuracy: 0.9687\n",
      "Epoch:  67 , Gloss:  1.919211561020973 , Dloss:  0.8447367190977113 , Closs:  0.6144439040197539\n",
      "Validation accuracy: 0.9683\n",
      "Epoch:  68 , Gloss:  1.9224923695030947 , Dloss:  0.8410920694671561 , Closs:  0.6077869358144313\n",
      "Validation accuracy: 0.9704\n",
      "Epoch:  69 , Gloss:  1.929615341312272 , Dloss:  0.837230430481946 , Closs:  0.6010688746955852\n",
      "Validation accuracy: 0.9708\n",
      "Epoch:  70 , Gloss:  1.9346670406940483 , Dloss:  0.8340191454537387 , Closs:  0.5945720070492787\n",
      "Validation accuracy: 0.9693\n",
      "Epoch:  71 , Gloss:  1.9418918575705926 , Dloss:  0.8308556847823129 , Closs:  0.5883016654731835\n",
      "Validation accuracy: 0.9718\n",
      "Epoch:  72 , Gloss:  1.948768547069211 , Dloss:  0.8270623544344264 , Closs:  0.5821220316543566\n",
      "Validation accuracy: 0.971\n",
      "Epoch:  73 , Gloss:  1.9582872940772797 , Dloss:  0.823354106878245 , Closs:  0.576378933338722\n",
      "Validation accuracy: 0.9727\n",
      "Epoch:  74 , Gloss:  1.9629144205593236 , Dloss:  0.8204733394686377 , Closs:  0.5706373812081752\n",
      "Validation accuracy: 0.9728\n",
      "Epoch:  75 , Gloss:  1.9668468215181352 , Dloss:  0.817094539559331 , Closs:  0.5650368607673841\n",
      "Validation accuracy: 0.9737\n",
      "Epoch:  76 , Gloss:  1.9752338612637081 , Dloss:  0.8147334452100997 , Closs:  0.5597496273895997\n",
      "Validation accuracy: 0.9693\n",
      "Epoch:  77 , Gloss:  1.9804590412337204 , Dloss:  0.81156245507189 , Closs:  0.5542390737429455\n",
      "Validation accuracy: 0.9708\n",
      "Epoch:  78 , Gloss:  1.9841935979464604 , Dloss:  0.8082416170909538 , Closs:  0.5489741764631891\n",
      "Validation accuracy: 0.9725\n",
      "Epoch:  79 , Gloss:  1.9916350558181635 , Dloss:  0.8045586576835038 , Closs:  0.5440729936058463\n",
      "Validation accuracy: 0.9689\n",
      "Epoch:  80 , Gloss:  1.9985070668654321 , Dloss:  0.8014731220059428 , Closs:  0.5393911292343161\n",
      "Validation accuracy: 0.9728\n",
      "Epoch:  81 , Gloss:  2.001182937542815 , Dloss:  0.7994025794368842 , Closs:  0.5345791631292097\n",
      "Validation accuracy: 0.9697\n",
      "Epoch:  82 , Gloss:  2.003919064342843 , Dloss:  0.7967121679818341 , Closs:  0.529800045721333\n",
      "Validation accuracy: 0.9729\n",
      "Epoch:  83 , Gloss:  2.0085574179757315 , Dloss:  0.7937867819739349 , Closs:  0.5252629658603605\n",
      "Validation accuracy: 0.9718\n",
      "Epoch:  84 , Gloss:  2.013055218525416 , Dloss:  0.7918877730115917 , Closs:  0.5208810136826522\n",
      "Validation accuracy: 0.9707\n",
      "Epoch:  85 , Gloss:  2.0165514756327934 , Dloss:  0.7891021387651759 , Closs:  0.5165929767485534\n",
      "Validation accuracy: 0.9732\n",
      "Epoch:  86 , Gloss:  2.0254412522704808 , Dloss:  0.7878480674639101 , Closs:  0.5123962778754231\n",
      "Validation accuracy: 0.9716\n",
      "Epoch:  87 , Gloss:  2.026837744545903 , Dloss:  0.7864743628885171 , Closs:  0.5082130155698408\n",
      "Validation accuracy: 0.9687\n",
      "Epoch:  88 , Gloss:  2.0340329166242634 , Dloss:  0.7834137742409955 , Closs:  0.5040279522607637\n",
      "Validation accuracy: 0.9711\n",
      "Epoch:  89 , Gloss:  2.034971186017805 , Dloss:  0.7812294477579302 , Closs:  0.4999263480901542\n",
      "Validation accuracy: 0.9715\n",
      "Epoch:  90 , Gloss:  2.0391052833172947 , Dloss:  0.7783492768489046 , Closs:  0.49589274256477534\n",
      "Validation accuracy: 0.9717\n",
      "Epoch:  91 , Gloss:  2.0516878679744703 , Dloss:  0.7771774243038125 , Closs:  0.49260088867127944\n",
      "Validation accuracy: 0.969\n",
      "Epoch:  92 , Gloss:  2.0506107935293514 , Dloss:  0.77716788341077 , Closs:  0.4888041101567454\n",
      "Validation accuracy: 0.9676\n",
      "Epoch:  93 , Gloss:  2.0533434394455825 , Dloss:  0.7756416834871618 , Closs:  0.4850668354321324\n",
      "Validation accuracy: 0.9704\n",
      "Epoch:  94 , Gloss:  2.0552287002203937 , Dloss:  0.7744114226821881 , Closs:  0.4812301945328907\n",
      "Validation accuracy: 0.9723\n",
      "Epoch:  95 , Gloss:  2.057283679859119 , Dloss:  0.7727080541597703 , Closs:  0.4775054181628891\n",
      "Validation accuracy: 0.9711\n",
      "Epoch:  96 , Gloss:  2.06068602590583 , Dloss:  0.7710305024698705 , Closs:  0.47391490639116074\n",
      "Validation accuracy: 0.9671\n",
      "Epoch:  97 , Gloss:  2.0648492527736084 , Dloss:  0.7685132475904785 , Closs:  0.47051663039343605\n",
      "Validation accuracy: 0.9688\n",
      "Epoch:  98 , Gloss:  2.0672584788897885 , Dloss:  0.7666680449525799 , Closs:  0.4671215904756094\n",
      "Validation accuracy: 0.9674\n",
      "Epoch:  99 , Gloss:  2.0691924950687928 , Dloss:  0.7650815894413527 , Closs:  0.4635628975109521\n",
      "Validation accuracy: 0.9708\n"
     ]
    }
   ],
   "source": [
    "train()"
   ]
  },
  {
   "cell_type": "code",
   "execution_count": 22,
   "metadata": {},
   "outputs": [
    {
     "data": {
      "text/plain": [
       "torch.Size([100, 110])"
      ]
     },
     "execution_count": 22,
     "metadata": {},
     "output_type": "execute_result"
    }
   ],
   "source": [
    "x = torch.randn(100,100).to(device)\n",
    "label = torch.stack(list(map(lambda x: onehot(10)(x),[int(i/10) for i in range(100)]))).to(device)\n",
    "x = torch.cat((x, label),-1)\n",
    "x.shape"
   ]
  },
  {
   "cell_type": "code",
   "execution_count": 23,
   "metadata": {},
   "outputs": [
    {
     "data": {
      "text/plain": [
       "torch.Size([100, 1, 28, 28])"
      ]
     },
     "execution_count": 23,
     "metadata": {},
     "output_type": "execute_result"
    }
   ],
   "source": [
    "generator(x).shape"
   ]
  },
  {
   "cell_type": "code",
   "execution_count": 24,
   "metadata": {},
   "outputs": [
    {
     "data": {
      "image/png": "[encoded data removed]",
      "text/plain": [
       "<Figure size 720x720 with 100 Axes>"
      ]
     },
     "metadata": {
      "needs_background": "light"
     },
     "output_type": "display_data"
    }
   ],
   "source": [
    "plt.figure(figsize=(10,10))\n",
    "\n",
    "for i in range(10):\n",
    "    for j in range(10):\n",
    "        plt.subplot(10,10,10*i+j+1)\n",
    "        plt.imshow(generator(x)[10*i+j].view(28,28).cpu().detach(), cmap='gray')"
   ]
  },
  {
   "cell_type": "code",
   "execution_count": 25,
   "metadata": {},
   "outputs": [
    {
     "data": {
      "text/plain": [
       "tensor([[0., 0., 0., 1., 0., 0., 0., 0., 0., 0.],\n",
       "        [0., 0., 0., 0., 0., 0., 0., 1., 0., 0.],\n",
       "        [0., 0., 0., 0., 0., 0., 0., 0., 0., 1.],\n",
       "        [0., 0., 1., 0., 0., 0., 0., 0., 0., 0.],\n",
       "        [0., 0., 0., 0., 0., 0., 0., 0., 1., 0.],\n",
       "        [0., 0., 0., 0., 0., 0., 1., 0., 0., 0.],\n",
       "        [0., 0., 0., 1., 0., 0., 0., 0., 0., 0.],\n",
       "        [0., 1., 0., 0., 0., 0., 0., 0., 0., 0.],\n",
       "        [0., 1., 0., 0., 0., 0., 0., 0., 0., 0.],\n",
       "        [0., 0., 0., 1., 0., 0., 0., 0., 0., 0.]], device='cuda:0')"
      ]
     },
     "execution_count": 25,
     "metadata": {},
     "output_type": "execute_result"
    }
   ],
   "source": [
    "classes_fake = to_variable(torch.stack(list\n",
    "                                                   (map(lambda x: onehot(10)(x), \n",
    "                                                        list(np.random.randint(10, size=10))))))\n",
    "classes_fake"
   ]
  },
  {
   "cell_type": "code",
   "execution_count": 26,
   "metadata": {},
   "outputs": [
    {
     "data": {
      "text/plain": [
       "tensor([3, 7, 9, 2, 8, 6, 3, 1, 1, 3], device='cuda:0')"
      ]
     },
     "execution_count": 26,
     "metadata": {},
     "output_type": "execute_result"
    }
   ],
   "source": [
    "torch.max(classes_fake, -1)[1]"
   ]
  }
 ],
 "metadata": {
  "kernelspec": {
   "display_name": "Python 3",
   "language": "python",
   "name": "python3"
  },
  "language_info": {
   "codemirror_mode": {
    "name": "ipython",
    "version": 3
   },
   "file_extension": ".py",
   "mimetype": "text/x-python",
   "name": "python",
   "nbconvert_exporter": "python",
   "pygments_lexer": "ipython3",
   "version": "3.6.7"
  }
 },
 "nbformat": 4,
 "nbformat_minor": 2
}
